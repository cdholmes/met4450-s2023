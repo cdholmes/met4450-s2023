{
 "cells": [
  {
   "cell_type": "markdown",
   "id": "5364e184-eaa2-46d9-954a-69d97b169ed8",
   "metadata": {},
   "source": [
    "The fsu-s23 Python kernel on jetstream-cloud.org has already installed all of the packages that you will need for this Notebook.\n",
    "If you are running this Notebook on your personal computer, you may need to install the following packages. For Anaconda Python (and other conda-based distributions), use the following commands.\n",
    "```\n",
    "conda install xarray pandas cartopy hvplot netCDF4 h5netcdf h5pyd s3fs\n",
    "conda install -c conda-forge metpy\n",
    "```\n",
    "You should only need to install these once."
   ]
  },
  {
   "cell_type": "code",
   "execution_count": null,
   "id": "dca8932f-8994-49c9-a851-45db5d935dba",
   "metadata": {},
   "outputs": [],
   "source": [
    "# Import the packages that we will use\n",
    "import hvplot.xarray\n",
    "import xarray as xr\n",
    "import cartopy.crs as ccrs\n",
    "import numpy as np\n",
    "import pandas as pd\n",
    "import matplotlib.pyplot as plt\n",
    "try:\n",
    "    import met4450\n",
    "except ImportError:\n",
    "    print('Uh oh!!')\n",
    "    print('You must have met4450.py in the same directory as this file or somewhere else in your python path')"
   ]
  },
  {
   "cell_type": "code",
   "execution_count": null,
   "id": "833a372c-de47-4601-9e8c-3938f4744f27",
   "metadata": {
    "tags": []
   },
   "outputs": [],
   "source": [
    "# Connect to Amazon Web Services public datastores\n",
    "import s3fs\n",
    "fs = s3fs.S3FileSystem(anon=True)"
   ]
  },
  {
   "cell_type": "markdown",
   "id": "cb286102-ae3e-476c-b2a2-bbc4b138e752",
   "metadata": {
    "tags": []
   },
   "source": [
    "## How to use find_goes_dataset ##\n",
    "The function find_goes_filename within the met4450 package makes is easy to find GOES data on AWS. The keyword arguments are\n",
    "* satellite - defines which GOES satellite to use. Possible values are\n",
    "   * 16, '16', 'G16', 'GOES16', 'GOES-16', 'GOES-EAST', 'EAST' = GOES-16\n",
    "   * 17, '17', 'G17', 'GOES17', 'GOES-17' = GOES-17\n",
    "   * 18, '18', 'G18', 'GOES18', 'GOES-18', 'GOES-WEST', 'WEST' = GOES-18\n",
    "* product - defines which ABI product to use. Typically use 'ABI-L2-MCMIP', which is the cloud and moisture imagery for all bands in one file, all at the same resolution (2 km). See [link](https://github.com/awslabs/open-data-docs/tree/main/docs/noaa/noaa-goes16) for a full list of GOES-16, 17, 18 products.\n",
    "* domain - defines the ABI field of view. Possible values are \n",
    "    * F = Full disk\n",
    "    * C = CONUS\n",
    "    * M1 or M2 = Mesoscale sector 1 or 2\n",
    "* datetime - defines the date and time of interest. Data for the nearest matching time will be returned. Use the format 'YYYY-MM-DD HH:MM'. (Timestamp and datetime objects are also OK, if you know what they are.) The datetime must be *after* the following operational start dates\n",
    "    * 2017-03-01 for GOES-16\n",
    "    * 2018-08-29 for GOES-17\n",
    "    * 2022-07-28 for GOES-18\n",
    "    \n",
    "The function will return the path to the data nearest in time to the datetime that you provide.\n",
    "    "
   ]
  },
  {
   "cell_type": "code",
   "execution_count": null,
   "id": "92dbde0a-cd3e-4fc6-aeb5-48352c3542bc",
   "metadata": {},
   "outputs": [],
   "source": [
    "# Find file for a date, time, product and domain of intrest\n",
    "fileinfo = met4450.find_goes_dataset(satellite=16,\n",
    "                        product='ABI-L2-MCMIP',\n",
    "                        domain='C',\n",
    "                        datetime='2023-02-14 19:00')\n",
    "\n",
    "# Print the name of the file that we will read\n",
    "print( 'Reading file: https://{:s}.s3.amazonaws.com/{:s}'.format( *fileinfo.file[0].split('/',1) ) )\n",
    "                                           \n",
    "# Load the data from AWS\n",
    "goes = xr.open_dataset( fs.open( fileinfo.file[0] ) )"
   ]
  },
  {
   "cell_type": "markdown",
   "id": "f651c56a-4281-4660-a82c-8289b21e8326",
   "metadata": {},
   "source": [
    "The variable ```goes``` is a dataset that contains all contents of the netCDF file. The dataset contains many variables within it. For example, ```goes['x']``` is the variable that contains the x coordinate of the data and ```goes['y']``` is the y coordinate variable. Imagery from the 16 ABI bands are contained in the variables ```CMI_Cxx```, where xx is a number 01-16, so ```goes['CMI_C01']``` is the variable containing data from ABI band 1. See this [link](https://www.goes-r.gov/spacesegment/ABI-tech-summary.html) for a summary of the wavelengths corresponding to each band.\n",
    "\n",
    "The following cell displays a summary of the dataset, from which you can explore all of the variables that it contains."
   ]
  },
  {
   "cell_type": "code",
   "execution_count": null,
   "id": "d544a794-3d48-40c1-886d-5e21ff314341",
   "metadata": {
    "tags": []
   },
   "outputs": [],
   "source": [
    "# Display summary of dataset\n",
    "# Explore the output\n",
    "goes"
   ]
  },
  {
   "cell_type": "code",
   "execution_count": null,
   "id": "f4c31c6e-d537-4026-8c60-87cadc8dfabc",
   "metadata": {
    "tags": []
   },
   "outputs": [],
   "source": [
    "# Display band 3 (0.86µm) reflectance\n",
    "goes['CMI_C03'].plot.imshow()"
   ]
  },
  {
   "cell_type": "code",
   "execution_count": null,
   "id": "5fdcb00e-2df8-4f48-bb25-41ebc22fc1fd",
   "metadata": {},
   "outputs": [],
   "source": [
    "# Repeat as an interactive plot\n",
    "goes['CMI_C03'].hvplot('x','y',data_aspect=1)"
   ]
  },
  {
   "cell_type": "markdown",
   "id": "7a337e30-61c5-4510-a5d5-8d4c87cb22df",
   "metadata": {},
   "source": [
    "### Explore ###\n",
    "\n",
    "Experiment with the commands above. For example, try some different ABI bands, a different date and time, a different domain, or a different GOES satellite."
   ]
  },
  {
   "cell_type": "markdown",
   "id": "d963513a-a1bf-483f-9f87-3f4c5192988b",
   "metadata": {},
   "source": [
    "## True color images ##\n",
    "To create a true color image (aka natural color), we must define the brightness of red, blue, and green components. ABI has blue (band 1) and red (band 2) bands. We will treat band 3 (0.86 µm) as green because, as we have seen, green vegetation also reflects near IR light."
   ]
  },
  {
   "cell_type": "code",
   "execution_count": null,
   "id": "4ea621fe-e240-4a3f-b1e9-dd0cc98c930c",
   "metadata": {
    "tags": []
   },
   "outputs": [],
   "source": [
    "# Define red, blue, and green colors for a natural color image\n",
    "goes['R'] = goes['CMI_C02']\n",
    "goes['G'] = goes['CMI_C03']\n",
    "goes['B'] = goes['CMI_C01']\n",
    "\n",
    "# Combine RGB into one data array\n",
    "goes['RGB'] = goes[['R','G','B']].to_array()\n",
    "\n",
    "# Restrict to range [0,1]\n",
    "goes['RGB'] = np.clip( goes['RGB'], 0, 1 )"
   ]
  },
  {
   "cell_type": "code",
   "execution_count": null,
   "id": "ba8849bc-5d0f-4808-8676-f446a1ef345f",
   "metadata": {
    "tags": []
   },
   "outputs": [],
   "source": [
    "# Display the natural color image\n",
    "# Either of these work but hvplot looks nicer\n",
    "# goes['RGB'].plot.imshow()\n",
    "goes['RGB'].hvplot.rgb('x','y',bands='variable',data_aspect=1)\n",
    "\n",
    "# You can save the figure using the buttons in the image\n"
   ]
  },
  {
   "cell_type": "markdown",
   "id": "3243fcc6-bab8-4fe5-a647-862a34862841",
   "metadata": {},
   "source": [
    "### Gamma correction ###\n",
    "\n",
    "The image above probably looks very dark, except for the bright clouds. Human vision, unlike camera sensors, has a quasi-logarithmic perception of brightness, giving additional sensitivity to dark scenes. We can mimic human perception by brightening the middle-dark colors and reducing the brightness difference between clouds and other elements of the scene. \"Gamma correction\" is a common way to do this. A gamma correction for the red channel is defined as $$R_{new} = R^{1/\\gamma}.$$ $\\gamma = 2.2$ is a common choice. The process is repeated for the green and blue channels, using the same gamma value for all channels.\n",
    "\n",
    "*Apply a gamma correction to your image*"
   ]
  },
  {
   "cell_type": "code",
   "execution_count": null,
   "id": "28ade61e-c433-41a1-96a8-6608cb8dca44",
   "metadata": {},
   "outputs": [],
   "source": [
    "# Apply a gamma correction here and display the image again\n"
   ]
  },
  {
   "cell_type": "markdown",
   "id": "920ea55c-0a42-4042-a20d-f5ed508377a5",
   "metadata": {},
   "source": [
    "### A better green ###\n",
    "\n",
    "After applying the gamma correction, the image probably looks unrealistically bright green over almost all land areas. That's because we are using GOES band 3 (0.86 µm) as the green channel because ABI doesn't have a true green band. As we saw in chapter 5, vegetation is much more reflective in NIR than in visible green. NOAA scientists have found that a weighted mixture of band 3 with bands 1 and 2 provides a better approximation of green perceived by humans than band 3 alone. One recommended mixture is \n",
    "$$G = 0.45 * band1 + 0.45 * band2 + 0.1 * band3$$\n",
    "\n",
    "*Update your image using this new definition of the green canel in the image*"
   ]
  },
  {
   "cell_type": "code",
   "execution_count": null,
   "id": "c44ebb08-5cef-4c6c-9919-cc538331e0d5",
   "metadata": {},
   "outputs": [],
   "source": [
    "# Redefine the green chanel and display the image again\n"
   ]
  },
  {
   "cell_type": "markdown",
   "id": "82de7d51-42e6-4696-b05b-640bf6013dec",
   "metadata": {},
   "source": [
    "## NDVI ##\n",
    "\n",
    "The normalized difference vegetation index (NDVI) is a common indicator of healthy green vegetation. \n",
    "$$NDVI = \\frac{NIR - Red}{NIR + Red}$$\n",
    "For ABI, use band3 for NIR and band2 for Red. NDVI is relatively insensitive to the solar elevation angle and satellite viewing angle, unlike the intensities or reflectance of individual bands. NDVI is generally lower \n",
    "\n",
    "*Define NDVI and display it as an image*"
   ]
  },
  {
   "cell_type": "code",
   "execution_count": null,
   "id": "72948449-37b8-461a-b2ba-9d8db697f2ea",
   "metadata": {},
   "outputs": [],
   "source": [
    "# Define NDVI here, then display it. Here's a snippet to get started\n",
    "goes['NDVI'] = # Fill in what goes here\n",
    "\n",
    "# Display your NDVI image, setting the colormap range to (0-1)\n",
    "goes['NDVI'].hvplot('x','y',data_aspect=1,clim=(0,1))\n"
   ]
  },
  {
   "cell_type": "markdown",
   "id": "42c72ddc-5d1e-43ef-b67a-591f95d1baff",
   "metadata": {},
   "source": [
    "### Seasonal changes in NDVI ###\n",
    "After you have a working NDVI image, try a date from a different season. Look for differences in NDVI (ignoring changes in where the clouds appear)."
   ]
  },
  {
   "cell_type": "markdown",
   "id": "02d58478-0117-4acb-b437-ec5f1c1d6b64",
   "metadata": {},
   "source": [
    "## Cloud masking ##\n",
    "\n",
    "NDVI is intended for analysis of surface characteristics, but your NDVI figure should show that clouds have very high NDVI, even higher than green vegetation. Next, we will mask out the cloud areas, so that NDVI is shown only for surface areas."
   ]
  },
  {
   "cell_type": "code",
   "execution_count": null,
   "id": "c21619ad-e50d-4047-ab76-0fee25d86742",
   "metadata": {
    "tags": []
   },
   "outputs": [],
   "source": [
    "# Find the cloud mask for the same time and domain as the data above\n",
    "maskfileinfo = met4450.find_goes_dataset(satellite=fileinfo.attrs['satellite'],\n",
    "                                        product='ABI-L2-ACM', # This is the cloud mask product\n",
    "                                        domain=fileinfo.attrs['domain'],\n",
    "                                        datetime=fileinfo.attrs['datetime'])\n",
    "# Read the cloud mask\n",
    "mask = xr.open_dataset( fs.open( maskfileinfo.file[0] ) )\n",
    "\n",
    "# Add the cloud mask variable to our GOES dataset\n",
    "# The variable is named BCM for binary cloud mask: 0=cloud free, 1=some cloud\n",
    "goes['CloudMask'] = mask['BCM']\n",
    "# Define a clear mask where 1=cloud free, 0=some cloud\n",
    "goes['ClearMask'] = 1 - goes['CloudMask']"
   ]
  },
  {
   "cell_type": "code",
   "execution_count": null,
   "id": "418143c8-2ac0-4267-bd4a-c9314bc0c621",
   "metadata": {
    "tags": []
   },
   "outputs": [],
   "source": [
    "# Display only cloud-free locations (i.e. ClearMask==1 or CloudMask==0)\n",
    "goes['CMI_C03'].where( goes.ClearMask==1 ).\\\n",
    "    hvplot('x','y',data_aspect=1)"
   ]
  },
  {
   "cell_type": "code",
   "execution_count": null,
   "id": "5c8658cc-1cf2-4e7e-aa37-dd8c128abe22",
   "metadata": {
    "tags": []
   },
   "outputs": [],
   "source": [
    "# Write code to display your NDVI showing only cloud-free regions\n"
   ]
  },
  {
   "cell_type": "code",
   "execution_count": null,
   "id": "efeb2fa0-4c00-4c8d-b791-2d3ce8771bb4",
   "metadata": {},
   "outputs": [],
   "source": [
    "# We can also apply cloud masking for RGB images. Here are two different ways to do it.\n",
    "goes.RGB.where(goes.ClearMask).plot.imshow()"
   ]
  },
  {
   "cell_type": "code",
   "execution_count": null,
   "id": "7156d6c0-02b3-4f9e-8fe0-37181d83283f",
   "metadata": {
    "tags": []
   },
   "outputs": [],
   "source": [
    "# We can also add an alpha (transparency) layer to RGB images so that only cloud-free areas are shown\n",
    "goes['RGBA'] = goes[['R','G','B','ClearMask']].to_array(dim='color')\n",
    "goes['RGBA'] = np.clip( goes['RGBA'], 0, 1 )\n",
    "goes['RGBA'] = goes['RGBA'] ** (1/2.2)"
   ]
  }
 ],
 "metadata": {
  "kernelspec": {
   "display_name": "Python [conda env:fsu-s23]",
   "language": "python",
   "name": "conda-env-fsu-s23-py"
  },
  "language_info": {
   "codemirror_mode": {
    "name": "ipython",
    "version": 3
   },
   "file_extension": ".py",
   "mimetype": "text/x-python",
   "name": "python",
   "nbconvert_exporter": "python",
   "pygments_lexer": "ipython3",
   "version": "3.9.10"
  }
 },
 "nbformat": 4,
 "nbformat_minor": 5
}

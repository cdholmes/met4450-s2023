{
 "cells": [
  {
   "attachments": {},
   "cell_type": "markdown",
   "id": "47f9e83f-3c67-4da1-a933-1fdeee8b041d",
   "metadata": {
    "tags": []
   },
   "source": [
    "## Radiance and Brightness temperature ##\n",
    "In this exercise, you will  \n",
    "* use radiance measurements to compute brightness temperature\n",
    "* perform graphical and statistical comparison of your brightness temperature to the official brightness values\n",
    "* estimate surface temeprature from radiance \n",
    "\n",
    "\n",
    "### Important information for completing this exercise ###\n",
    "* Locations where you need to add or modify code are marked ```#***```.\n",
    "* Figures and information that you should turn in with your homework are marked ```#!!!```"
   ]
  },
  {
   "cell_type": "code",
   "execution_count": null,
   "id": "078f9110-3bd4-46a1-bcf9-23aad3172e8e",
   "metadata": {
    "tags": []
   },
   "outputs": [],
   "source": [
    "# Import the packages that we will use\n",
    "import hvplot.xarray\n",
    "import xarray as xr\n",
    "import cartopy.crs as ccrs\n",
    "import numpy as np\n",
    "import pandas as pd\n",
    "import matplotlib.pyplot as plt\n",
    "try:\n",
    "    import met4450\n",
    "except ImportError:\n",
    "    print('Uh oh!!')\n",
    "    print('You must have met4450.py in the same directory as this file or somewhere else in your python path')\n",
    "    \n",
    "# Planck's constant, J s\n",
    "h = 6.626e-34\n",
    "# Speed of light in vacuum, m/s\n",
    "c = 2.998e8\n",
    "# Boltzmann's constant, J/K\n",
    "kB= 1.381e-23"
   ]
  },
  {
   "cell_type": "code",
   "execution_count": null,
   "id": "3296965f-6de9-469b-8872-1ed8100dcd1e",
   "metadata": {
    "tags": []
   },
   "outputs": [],
   "source": [
    "# Connect to Amazon Web Services public datastores\n",
    "import s3fs\n",
    "fs = s3fs.S3FileSystem(anon=True)"
   ]
  },
  {
   "attachments": {},
   "cell_type": "markdown",
   "id": "c2bf125e-e284-4674-80e0-db631a20fe87",
   "metadata": {},
   "source": [
    "### Functions that we will need ###\n",
    "Begin by defining functions for Planck's law and brightness temperature. Functions reduce repetition and can improve clarity of code.\n",
    "\n",
    "Recall that Planck's law is\n",
    "$$B_\\lambda(T)=\\frac{2hc^2}{\\lambda^5(e^{hc/k_B\\lambda T}-1)}$$"
   ]
  },
  {
   "cell_type": "code",
   "execution_count": null,
   "id": "2a89a652-2ff5-47c9-9d0c-29398f3384bd",
   "metadata": {
    "tags": []
   },
   "outputs": [],
   "source": [
    "# If Python functions are new to you, here is an example of how to define a function that calculates the \n",
    "# hypotenuse of a right triangle as a function of the lengths of the other two sides\n",
    "def hypotenuse(a,b):\n",
    "    '''Compute length of hypotenuse for a right triangle\n",
    "    Parameters\n",
    "    ----------\n",
    "    a, b : length of two sides of the triangle\n",
    "    \n",
    "    Returns\n",
    "    -------\n",
    "    length of the hypotenuse\n",
    "    '''\n",
    "    return np.sqrt( a**2 + b**2 )\n",
    "\n",
    "# Enter the lengths of the shorter sides\n",
    "a=1; b=2\n",
    "print( 'A right triangle with sides of length {:f} and {:f} units has a hypotenuse with length {:f} units.'.format( a, b, hypotenuse(a,b)) )"
   ]
  },
  {
   "cell_type": "code",
   "execution_count": null,
   "id": "f2794726-a9e4-4c55-a708-20efb89422ef",
   "metadata": {
    "tags": []
   },
   "outputs": [],
   "source": [
    "# Define Planck's law as a function of temperature (K) and wavelength (m)\n",
    "def B(T,lam):\n",
    "    '''Planck's function for Blackbody radiance\n",
    "    Parameters\n",
    "    ----------\n",
    "    T   : temperature, K\n",
    "    lam : wavelength, m\n",
    "        [use \"lam\" for wavelength because \"lambda\" has a special meaning in Python]\n",
    "    \n",
    "    Returns\n",
    "    -------\n",
    "    Radiance, W/m2/sr/m\n",
    "    '''\n",
    "    return #*** Enter Planck's function here \n",
    "\n",
    "# Define Brightness temperature as a function of intensity (W/m2/m/sr)\n",
    "def BT(I,lam):\n",
    "    '''Brightness temperature\n",
    "    Parameters\n",
    "    ----------\n",
    "    I   : intensity, W/m2/sr/m\n",
    "    lam : wavelength, m\n",
    "    \n",
    "    Returns\n",
    "    -------\n",
    "    Brightness temperature, K\n",
    "    '''\n",
    "    return #*** Enter Planck's function here"
   ]
  },
  {
   "cell_type": "code",
   "execution_count": null,
   "id": "24192602-c249-46e0-9094-565e99f19bdf",
   "metadata": {
    "tags": []
   },
   "outputs": [],
   "source": [
    "# Here is a test to see if your functions are defined correctly\n",
    "print('The Planck function for 11µm and 300 K should be 9583696 W/m2/m/sr. Your value is ', B(300,11e-6) )\n",
    "print('The brightness temperature for 11µm and 9000000 W/m2/m/sr should be 295.7887 K. Your value is ', BT(9000000,11e-6) )\n",
    "print('Revise your functions if your values differ from the expectation.')"
   ]
  },
  {
   "cell_type": "markdown",
   "id": "241c8a2d-2fc8-4a98-99cb-a04124d31716",
   "metadata": {},
   "source": [
    "### Fetch Radiance Data ###\n",
    "In our first GOES exercise, we used the 'ABI-L2-MCMIP' product, which contains reflecance and brightness temperature data.\n",
    "Now, we will use the Level 1b Radiance product 'ABI-L1b-Rad'. "
   ]
  },
  {
   "cell_type": "code",
   "execution_count": null,
   "id": "e293ffdb-5e8f-4c31-9f1a-562b6dc1b7e7",
   "metadata": {
    "tags": []
   },
   "outputs": [],
   "source": [
    "# Find file for a date, time, product and domain of intrest\n",
    "rad_fileinfo = met4450.find_goes_dataset(\n",
    "                        satellite=16,\n",
    "                        product='ABI-L1b-Rad',\n",
    "                        domain='C',\n",
    "                        bands=13,\n",
    "                        datetime='2019-09-02 19:00')\n",
    "\n",
    "# Print the name of the file that we will read\n",
    "print( 'Reading file: https://{:s}.s3.amazonaws.com/{:s}'.format( *rad_fileinfo.file[0].split('/',1) ) )\n",
    "                                          \n",
    "# Load the data from AWS\n",
    "goes = xr.open_dataset( fs.open( rad_fileinfo.file[0] ) )"
   ]
  },
  {
   "cell_type": "code",
   "execution_count": null,
   "id": "19ea107f-59a0-4b6a-ba89-d7836d04bbab",
   "metadata": {
    "tags": []
   },
   "outputs": [],
   "source": [
    "# Display the data\n",
    "goes['Rad'].plot.imshow()"
   ]
  },
  {
   "attachments": {},
   "cell_type": "markdown",
   "id": "30ed51a3-ef4f-4232-ab10-e5b80560a9d2",
   "metadata": {},
   "source": [
    "### Radiance Units: wavenumber and wavelength ###\n",
    "Depending on which ABI channel you selected, the radiance units in the figure may use wavelength ('W m-2 sr-1 um-1', channels 1-5) or wavenumber ('mW m-2 sr-1 (cm-1)-1', channels 6-16). As a reminder, wavenumber is defined as $\\~\\nu=1/\\lambda$. In infrared spectroscopy, wavenumber is traditionally measured in units of inverse centimeters (cm-1). Intensity in wavenumber units can be converted to wavelength units through the relationship $I_\\lambda d\\lambda=I_{\\~\\nu} d\\~\\nu$. (The technique is the same as you used previously to derive the frequency form of Planck's law.)\n",
    "\n",
    "The following block converts all radiance variables to wavelength units of 'W m-2 sr-1 m-1', which should simplify your subsequent code."
   ]
  },
  {
   "cell_type": "code",
   "execution_count": null,
   "id": "916d67ba-a665-4ff4-a2c6-f27dc5805f0d",
   "metadata": {
    "tags": []
   },
   "outputs": [],
   "source": [
    "if goes['Rad'].units=='mW m-2 sr-1 (cm-1)-1':\n",
    "    print('Converting mW m-2 sr-1 (cm-1)-1  ->  W m-2 sr-1 m-1')\n",
    "    goes['Rad'].values = goes['Rad'] / 1e3 / 100 / (goes.band_wavelength[0]*1e-6)**2\n",
    "    goes['Rad'].attrs.update({'units':'W m-2 sr-1 m-1',\n",
    "                              'standard_name':'toa_outgoing_radiance_per_unit_wavelength'})\n",
    "    \n",
    "elif goes['Rad'].units=='W m-2 sr-1 um-1':\n",
    "    # Convert W/m2/sr/um -> W/m2/m/sr\n",
    "    print('Converting W m-2 sr-1 um-1  ->  W m-2 sr-1 m-1' )\n",
    "    goes['Rad'].values = goes['Rad'] * 1e6\n",
    "    goes['Rad'].attrs.update({'units':'W m-2 sr-1 m-1'})\n",
    "    \n",
    "elif goes['Rad'].units=='W m-2 sr-1 m-1':\n",
    "    print('Doing nothing; Units already W m-2 sr-1 m-1')\n",
    "    pass\n",
    "\n",
    "else: \n",
    "    print( 'Units not recognized: ', goes.Rad.units )"
   ]
  },
  {
   "cell_type": "code",
   "execution_count": null,
   "id": "948aecca-9139-4423-a7f4-223c5e189a15",
   "metadata": {},
   "outputs": [],
   "source": [
    "# Compute brightness temperature, K\n",
    "goes['my_BT'] = BT( goes['Rad'], goes.band_wavelength[0]*1e-6 )\n",
    "# Specify units as K\n",
    "goes['my_BT'].attrs.update({'units':'K'})"
   ]
  },
  {
   "cell_type": "code",
   "execution_count": null,
   "id": "869bbe62-cb7e-438c-bee8-c43d2e1d301e",
   "metadata": {
    "tags": []
   },
   "outputs": [],
   "source": [
    "#*** Write a command to display your brightness temperature\n",
    "\n",
    "#!!! Turn in your figure\n"
   ]
  },
  {
   "cell_type": "markdown",
   "id": "59ca76a7-e036-4925-a9ad-e308891f915b",
   "metadata": {
    "tags": []
   },
   "source": [
    "### Check your Brightness temperature values ###\n",
    "\n",
    "We can compare our brightness temperatures to the ones provided by the GOES retrieval team. We need to brightness temperature for the exact same time as the radiances for a fair comparison. "
   ]
  },
  {
   "cell_type": "code",
   "execution_count": null,
   "id": "db383953-8f78-464d-a964-e10ca451ceba",
   "metadata": {
    "tags": []
   },
   "outputs": [],
   "source": [
    "# Find the brightness temperature file that matches the time of the radiance file\n",
    "BT_fileinfo = met4450.find_goes_dataset(\n",
    "                        satellite=rad_fileinfo.satellite[0],\n",
    "                        product='ABI-L2-MCMIP',\n",
    "                        domain=rad_fileinfo.domain[0],\n",
    "                        datetime=rad_fileinfo.start[0])\n",
    "\n",
    "# Print the name of the file that we will read\n",
    "print( 'Reading file: https://{:s}.s3.amazonaws.com/{:s}'.format( *BT_fileinfo.file[0].split('/',1) ) )\n",
    "                                          \n",
    "# Load the data from AWS\n",
    "goes_BT = xr.open_dataset( fs.open( BT_fileinfo.file[0] ) )"
   ]
  },
  {
   "cell_type": "code",
   "execution_count": null,
   "id": "b7bed7e7-4613-4c43-90bd-851c45a0ec7e",
   "metadata": {
    "tags": []
   },
   "outputs": [],
   "source": [
    "# Make sure that the times for brightness temperature and radiance match\n",
    "rad_t = goes.t.dt.strftime('%Y-%m-%d %H:%M')\n",
    "BT_t  = goes_BT.t.dt.strftime('%Y-%m-%d %H:%M')\n",
    "if rad_t != BT_t:\n",
    "    print(\"WARNING!! Time of radiance data ({:s}) doesn't match time of CMI datat ({:s})\".format(rad_t, BT_t))\n",
    "else:\n",
    "    print('OK. The times are within one minute of each other')"
   ]
  },
  {
   "cell_type": "code",
   "execution_count": null,
   "id": "69135344-ec3d-4bc4-9340-05f5552a171e",
   "metadata": {
    "tags": []
   },
   "outputs": [],
   "source": [
    "#*** Plot the brightness temperature for the same ABI channel as you used to calculate your brightness temperature. \n",
    "# As a reminder from exercise 1, the brightness temperature variables are named 'CMI_Cxx' where xx is the ABI channel.\n",
    "# This should look indistinguishable from your values if everything is done correctly\n"
   ]
  },
  {
   "cell_type": "code",
   "execution_count": null,
   "id": "fe429682-e408-4838-8bea-d2644d918c8a",
   "metadata": {},
   "outputs": [],
   "source": [
    "#*** Plot the difference between between your brightness temperature and the official one from the GOES team.  \n",
    "# The differences should be less than 1 K.\n",
    "\n",
    "#!!! Turn in your map of the differences"
   ]
  },
  {
   "cell_type": "code",
   "execution_count": null,
   "id": "e1093723-1844-441d-849e-00ad11b02fdf",
   "metadata": {
    "tags": []
   },
   "outputs": [],
   "source": [
    "#*** Compute the mean difference between your brightness temperature and the official one\n",
    "\n",
    "#*** Compute the root-mean-square (rms) difference between your brightness temperature and the official one\n",
    "\n",
    "# Both of these differences should be less than 1 K. \n",
    "\n",
    "#!!! Turn in your values for mean and rms difference."
   ]
  },
  {
   "attachments": {
    "image.png": {
     "image/png": "[encoded data removed]"
    }
   },
   "cell_type": "markdown",
   "id": "f8c43dec-f972-41f6-88be-a1b2f4d0ab58",
   "metadata": {},
   "source": [
    "### Land surface temperature ###\n",
    "\n",
    "We will next estimate land surface temperature from the radiances. NOAA already provides an official land surface temeprature (LST) product, which we will use to check our results.\n",
    "\n",
    "The following table from Petty's book will be useful.\n",
    "\n",
    "![image.png](attachment:image.png)\n"
   ]
  },
  {
   "cell_type": "code",
   "execution_count": null,
   "id": "9cf0f7df-ea84-4db7-97a2-c6097dc437b5",
   "metadata": {
    "tags": []
   },
   "outputs": [],
   "source": [
    "# Fetch the land surface temperature product\n",
    "LST_fileinfo = met4450.find_goes_dataset(\n",
    "                        satellite=rad_fileinfo.satellite[0],\n",
    "                        product='ABI-L2-LST',\n",
    "                        domain=rad_fileinfo.domain[0],\n",
    "                        datetime=rad_fileinfo.start[0])\n",
    "\n",
    "# Print the name of the file that we will read\n",
    "print( 'Reading file: https://{:s}.s3.amazonaws.com/{:s}'.format( *LST_fileinfo.file[0].split('/',1) ) )\n",
    "                                          \n",
    "# Load the data from AWS\n",
    "goes_LST = xr.open_dataset( fs.open( LST_fileinfo.file[0] ) )"
   ]
  },
  {
   "cell_type": "code",
   "execution_count": null,
   "id": "45c2e456-23db-4e4e-a628-68c33e98c804",
   "metadata": {
    "tags": []
   },
   "outputs": [],
   "source": [
    "#*** Display the Land Surface temperature\n"
   ]
  },
  {
   "cell_type": "code",
   "execution_count": null,
   "id": "ac5d0021-a515-4634-94df-15829a64bd7c",
   "metadata": {},
   "outputs": [],
   "source": [
    "#*** Display the difference between the official LST product and your brightness temperature.\n",
    "# You should find that they are not the same. Which one is warmer and why?\n"
   ]
  },
  {
   "cell_type": "code",
   "execution_count": null,
   "id": "ce169bd4-7ff6-49e9-8ec1-683c225dd6be",
   "metadata": {
    "tags": []
   },
   "outputs": [],
   "source": [
    "#*** Try to make your own estimate of LST by accounting for the emissivity of land surfaces. \n",
    "# Test different reasonable values of emissivity to see how close of a match you can make to the official product\n",
    "goes['my_LST'] = \n",
    "\n",
    "\n",
    "# You will find that there is no value of emissivity that provides a good match to the official LST product everywhere.  \n",
    "\n",
    "#!!! Turn in your best map of land surface temperature. Explain how you created it and answer these questions:\n",
    "# Why isn't there an emissivity value that provides a good estimate of LST everywhere? Which emissivity values give a reasonable estimate in which locations?"
   ]
  }
 ],
 "metadata": {
  "kernelspec": {
   "display_name": "Python [conda env:fsu-s23]",
   "language": "python",
   "name": "conda-env-fsu-s23-py"
  },
  "language_info": {
   "codemirror_mode": {
    "name": "ipython",
    "version": 3
   },
   "file_extension": ".py",
   "mimetype": "text/x-python",
   "name": "python",
   "nbconvert_exporter": "python",
   "pygments_lexer": "ipython3",
   "version": "3.9.10"
  }
 },
 "nbformat": 4,
 "nbformat_minor": 5
}
